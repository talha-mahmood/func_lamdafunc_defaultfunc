{
  "nbformat": 4,
  "nbformat_minor": 0,
  "metadata": {
    "colab": {
      "provenance": []
    },
    "kernelspec": {
      "name": "python3",
      "display_name": "Python 3"
    },
    "language_info": {
      "name": "python"
    }
  },
  "cells": [
    {
      "cell_type": "markdown",
      "source": [
        "\n",
        "1. Simple Lambda:\n",
        " Write a lambda function that takes a number and returns its square. Test it with the\n",
        "number 5.\n",
        "2. Lambda with Multiple Arguments:\n",
        " Write a lambda function that takes two numbers and returns their product. Test it with the\n",
        "numbers 4 and 5.\n",
        "3. Sorting with Lambda:\n",
        " Given a list of tuples where each tuple contains a name and age, use sorted and a\n",
        "lambda function to sort the list by age. Example list: [(&quot;Alice&quot;, 30), (&quot;Bob&quot;, 25),\n",
        "(&quot;Charlie&quot;, 35)].\n",
        "4. Lambda for String Manipulation:\n",
        " Write a lambda function that takes a string and returns it in uppercase. Test it with the\n",
        "string &quot;hello world&quot;.\n",
        "5. Conditional Lambda:\n",
        " Write a lambda function that takes a number and returns &quot;Even&quot; if the number is even,\n",
        "and &quot;Odd&quot; if the number is odd. Test it with the number 3.\n",
        "\n",
        "Function Exercises\n",
        "6. Define Functions\n",
        " Write a function called greet that prints &quot;Hello, World!&quot;.\n",
        "7. 2. Passing Arguments to Functions\n",
        " Write a function called add that takes two parameters and prints their sum.\n",
        " Write a function called print_info that takes a name and an age as parameters and prints\n",
        "them in the format &quot;Name: [name], Age: [age]&quot;.\n",
        "8. 3. Return a Value from a Function\n",
        " Write a function called multiply that takes two numbers as parameters and returns their\n",
        "product.\n",
        " Write a function called is_even that takes a number as a parameter and returns True if the\n",
        "number is even and False if it is odd.\n",
        "\n",
        "9. 4. Scope of Objects\n",
        " Write a function called outer_function that defines a variable inside it, then defines and\n",
        "calls an inner function that prints the variable.\n",
        " Write a script to demonstrate the difference between local and global variables by\n",
        "defining a global variable, modifying it inside a function, and printing it both inside and\n",
        "outside the function.\n",
        "10. 5. Default Arguments\n",
        " Write a function called greet_person that takes a name as a parameter and prints &quot;Hello,\n",
        "[name]&quot;. If no name is provided, it should default to &quot;Guest&quot;.\n",
        " Write a function called power that takes two numbers as parameters and returns the first\n",
        "number raised to the power of the second number. If the second number is not provided,\n",
        "it should default to 2.\n",
        "11. 6. Positional and Keyword Arguments\n",
        " Write a function called describe_pet that takes two parameters: a pet&#39;s name and a pet&#39;s\n",
        "type. Use positional arguments to call the function with &quot;Buddy&quot; and &quot;dog&quot;, and keyword\n",
        "arguments to call the function with &quot;cat&quot; and &quot;Whiskers&quot;.\n",
        " Write a function called make_sandwich that takes three ingredients as parameters and\n",
        "prints the sandwich&#39;s ingredients in the format &quot;Sandwich with [ingredient1],\n",
        "[ingredient2], and [ingredient3]&quot;. Call the function using both positional and keyword\n",
        "arguments.\n",
        "12. 7. Variable-Length Arguments\n",
        " Write a function called sum_numbers that takes any number of numerical arguments and\n",
        "returns their sum.\n",
        " Write a function called display_students that takes a course name and any number of\n",
        "student names, and prints the course name followed by the list of student names.\n",
        "\n",
        "Complex Function Tasks with Lists, Tuples, and Dictionaries\n",
        "13. Student Grade Management\n",
        " Scenario: You have a list of tuples where each tuple contains a student&#39;s name and their\n",
        "grades in three subjects.\n",
        "o Example: students = [(&quot;Alice&quot;, [85, 90, 92]), (&quot;Bob&quot;, [78, 81, 85]), (&quot;Charlie&quot;,\n",
        "[92, 88, 91])]\n",
        "\n",
        " Tasks:\n",
        "1. Write a function to calculate the average grade for each student.\n",
        "\n",
        "2. Write a function to find the student with the highest average grade.\n",
        "3. Write a function to find the student with the lowest average grade.\n",
        "4. Write a function to add a new student with their grades to the list.\n",
        "\n",
        "14. 2. Inventory Management\n",
        " Scenario: You have a dictionary representing an inventory of products where the keys\n",
        "are product names and the values are tuples containing the price and the stock quantity.\n",
        "o Example: inventory = {&quot;apple&quot;: (0.5, 100), &quot;banana&quot;: (0.3, 150), &quot;orange&quot;: (0.7,\n",
        "120)}\n",
        " Tasks:\n",
        "1. Write a function to add a new product to the inventory.\n",
        "2. Write a function to update the price and stock quantity of an existing product.\n",
        "3. Write a function to calculate the total value of the inventory (price * quantity for each\n",
        "product).\n",
        "4. Write a function to find the product with the highest stock quantity.\n",
        "\n",
        "o Employee Data Processing\n",
        " Scenario: You have a list of dictionaries where each dictionary contains details of an\n",
        "employee: their name, age, department, and salary.\n",
        "o Example: employees = [{&quot;name&quot;: &quot;Alice&quot;, &quot;age&quot;: 30, &quot;department&quot;: &quot;HR&quot;,\n",
        "&quot;salary&quot;: 50000}, {&quot;name&quot;: &quot;Bob&quot;, &quot;age&quot;: 25, &quot;department&quot;: &quot;IT&quot;, &quot;salary&quot;:\n",
        "60000}, {&quot;name&quot;: &quot;Charlie&quot;, &quot;age&quot;: 35, &quot;department&quot;: &quot;Finance&quot;, &quot;salary&quot;:\n",
        "55000}]\n",
        " Tasks:\n",
        "1. Write a function to add a new employee to the list.\n",
        "2. Write a function to remove an employee from the list by their name.\n",
        "3. Write a function to find the average salary of employees in a specific department.\n",
        "4. Write a function to find the employee with the highest salary.\n",
        "5. Write a function to list all employees in a specific department.\n",
        "\n",
        "o Book Collection Management\n",
        " Scenario: You have a dictionary where the keys are genres and the values are lists of\n",
        "tuples, each containing a book title and its author.\n",
        "o Example: books = {&quot;Science Fiction&quot;: [(&quot;Dune&quot;, &quot;Frank Herbert&quot;),\n",
        "(&quot;Neuromancer&quot;, &quot;William Gibson&quot;)], &quot;Fantasy&quot;: [(&quot;The Hobbit&quot;, &quot;J.R.R.\n",
        "Tolkien&quot;), (&quot;Harry Potter&quot;, &quot;J.K. Rowling&quot;)]}\n",
        "\n",
        " Tasks:\n",
        "1. Write a function to add a new book to a genre.\n",
        "\n",
        "2. Write a function to remove a book from a genre.\n",
        "3. Write a function to find all books by a specific author across all genres.\n",
        "4. Write a function to list all books in a specific genre.\n",
        "5. Write a function to count the total number of books in the collection.\n",
        "15. Movie Ratings\n",
        " Scenario: You have a dictionary where the keys are movie titles and the values are lists\n",
        "of tuples, each containing a reviewer&#39;s name and their rating for the movie.\n",
        "o Example: movies = {&quot;Inception&quot;: [(&quot;Alice&quot;, 9), (&quot;Bob&quot;, 8)], &quot;Titanic&quot;: [(&quot;Alice&quot;,\n",
        "7), (&quot;Charlie&quot;, 8)]}\n",
        "\n",
        " Tasks:\n",
        "1. Write a function to add a new rating for a movie.\n",
        "2. Write a function to update an existing rating for a movie.\n",
        "3. Write a function to calculate the average rating for a movie.\n",
        "4. Write a function to find the movie with the highest average rating.\n",
        "5. Write a function to list all movies reviewed by a specific reviewer."
      ],
      "metadata": {
        "id": "gohymJLTm7-Z"
      }
    },
    {
      "cell_type": "code",
      "source": [
        "square = lambda x: x**2\n",
        "print(\"Square of 5:\", square(5))\n"
      ],
      "metadata": {
        "colab": {
          "base_uri": "https://localhost:8080/"
        },
        "id": "11ASLaM0nAhj",
        "outputId": "09d2fadb-5296-4827-f77b-be27a11585c8"
      },
      "execution_count": 22,
      "outputs": [
        {
          "output_type": "stream",
          "name": "stdout",
          "text": [
            "Square of 5: 25\n"
          ]
        }
      ]
    },
    {
      "cell_type": "code",
      "source": [
        "product = lambda x, y: x * y\n",
        "print(\"Product of 4 and 5:\", product(4, 5))\n"
      ],
      "metadata": {
        "colab": {
          "base_uri": "https://localhost:8080/"
        },
        "id": "EuXooIQFnIlK",
        "outputId": "df3ca2e5-9689-4c00-cd2f-19fa51408dd5"
      },
      "execution_count": 23,
      "outputs": [
        {
          "output_type": "stream",
          "name": "stdout",
          "text": [
            "Product of 4 and 5: 20\n"
          ]
        }
      ]
    },
    {
      "cell_type": "code",
      "source": [
        "people = [(\"Alice\", 30), (\"Bob\", 25), (\"Charlie\", 35)]\n",
        "sorted_people = sorted(people, key=lambda person: person[1])\n",
        "print(\"People sorted by age:\", sorted_people)\n"
      ],
      "metadata": {
        "colab": {
          "base_uri": "https://localhost:8080/"
        },
        "id": "6oBeNurXnLol",
        "outputId": "e1340222-ec1a-4538-adb9-c67a1e6b4da5"
      },
      "execution_count": 24,
      "outputs": [
        {
          "output_type": "stream",
          "name": "stdout",
          "text": [
            "People sorted by age: [('Bob', 25), ('Alice', 30), ('Charlie', 35)]\n"
          ]
        }
      ]
    },
    {
      "cell_type": "code",
      "source": [
        "to_upper = lambda s: s.upper()\n",
        "print(\"Uppercase string:\", to_upper(\"hello world\"))\n"
      ],
      "metadata": {
        "colab": {
          "base_uri": "https://localhost:8080/"
        },
        "id": "DoP7KKvTnSov",
        "outputId": "0bef4937-9e84-415a-ee0e-0cfda8a2ee46"
      },
      "execution_count": 25,
      "outputs": [
        {
          "output_type": "stream",
          "name": "stdout",
          "text": [
            "Uppercase string: HELLO WORLD\n"
          ]
        }
      ]
    },
    {
      "cell_type": "code",
      "source": [
        "def greet():\n",
        "    print(\"Hello, World!\")\n",
        "\n",
        "greet()\n"
      ],
      "metadata": {
        "colab": {
          "base_uri": "https://localhost:8080/"
        },
        "id": "iyuaIIDmnWsY",
        "outputId": "4dc06c60-f5bc-417b-a0f9-6d6a5a6a67df"
      },
      "execution_count": 26,
      "outputs": [
        {
          "output_type": "stream",
          "name": "stdout",
          "text": [
            "Hello, World!\n"
          ]
        }
      ]
    },
    {
      "cell_type": "code",
      "source": [
        "def add(a, b):\n",
        "    print(\"Sum:\", a + b)\n",
        "\n",
        "add(3, 7)\n",
        "\n",
        "def print_info(name, age):\n",
        "    print(f\"Name: {name}, Age: {age}\")\n",
        "\n",
        "print_info(\"Alice\", 30)\n"
      ],
      "metadata": {
        "colab": {
          "base_uri": "https://localhost:8080/"
        },
        "id": "5B5EFedGnZX3",
        "outputId": "499f0c96-b82b-42ef-cf85-e81fa7025802"
      },
      "execution_count": 27,
      "outputs": [
        {
          "output_type": "stream",
          "name": "stdout",
          "text": [
            "Sum: 10\n",
            "Name: Alice, Age: 30\n"
          ]
        }
      ]
    },
    {
      "cell_type": "code",
      "source": [
        "def multiply(a, b):\n",
        "    return a * b\n",
        "\n",
        "print(\"Product:\", multiply(4, 5))\n",
        "\n",
        "def is_even(x):\n",
        "    return x % 2 == 0\n",
        "\n",
        "print(\"Is 4 even?\", is_even(4))\n"
      ],
      "metadata": {
        "colab": {
          "base_uri": "https://localhost:8080/"
        },
        "id": "bW-c3fPIndgX",
        "outputId": "966970cc-adf8-4b05-b17e-7cf8601ef617"
      },
      "execution_count": 28,
      "outputs": [
        {
          "output_type": "stream",
          "name": "stdout",
          "text": [
            "Product: 20\n",
            "Is 4 even? True\n"
          ]
        }
      ]
    },
    {
      "cell_type": "code",
      "source": [
        "def outer_function():\n",
        "    outer_var = \"I'm outside!\"\n",
        "\n",
        "    def inner_function():\n",
        "        print(outer_var)\n",
        "\n",
        "    inner_function()\n",
        "\n",
        "outer_function()\n",
        "\n",
        "global_var = \"Global Variable\"\n",
        "\n",
        "def modify_variable():\n",
        "    global global_var\n",
        "    global_var = \"Modified Global Variable\"\n",
        "    print(\"Inside function:\", global_var)\n",
        "\n",
        "modify_variable()\n",
        "print(\"Outside function:\", global_var)\n"
      ],
      "metadata": {
        "colab": {
          "base_uri": "https://localhost:8080/"
        },
        "id": "yg5n14RnngIt",
        "outputId": "b82a15a2-a9d0-49da-bd52-20a60926793a"
      },
      "execution_count": 29,
      "outputs": [
        {
          "output_type": "stream",
          "name": "stdout",
          "text": [
            "I'm outside!\n",
            "Inside function: Modified Global Variable\n",
            "Outside function: Modified Global Variable\n"
          ]
        }
      ]
    },
    {
      "cell_type": "code",
      "source": [
        "def greet_person(name=\"Guest\"):\n",
        "    print(f\"Hello, {name}!\")\n",
        "\n",
        "greet_person(\"Alice\")\n",
        "greet_person()\n",
        "\n",
        "def power(base, exponent=2):\n",
        "    return base ** exponent\n",
        "\n",
        "print(\"3^4 =\", power(3, 4))\n",
        "print(\"5^2 =\", power(5))\n"
      ],
      "metadata": {
        "colab": {
          "base_uri": "https://localhost:8080/"
        },
        "id": "_TyfucR0naid",
        "outputId": "8cd288dc-b9aa-4e9f-b0ec-1d49dc340691"
      },
      "execution_count": 30,
      "outputs": [
        {
          "output_type": "stream",
          "name": "stdout",
          "text": [
            "Hello, Alice!\n",
            "Hello, Guest!\n",
            "3^4 = 81\n",
            "5^2 = 25\n"
          ]
        }
      ]
    },
    {
      "cell_type": "code",
      "source": [
        "def describe_pet(pet_name, pet_type):\n",
        "    print(f\"{pet_name} is a {pet_type}.\")\n",
        "\n",
        "describe_pet(\"Buddy\", \"dog\")\n",
        "describe_pet(pet_type=\"cat\", pet_name=\"Whiskers\")\n",
        "\n",
        "def make_sandwich(ingredient1, ingredient2, ingredient3):\n",
        "    print(f\"Sandwich with {ingredient1}, {ingredient2}, and {ingredient3}.\")\n",
        "\n",
        "make_sandwich(\"lettuce\", \"tomato\", \"bacon\")\n",
        "make_sandwich(ingredient1=\"ham\", ingredient2=\"cheese\", ingredient3=\"lettuce\")\n"
      ],
      "metadata": {
        "colab": {
          "base_uri": "https://localhost:8080/"
        },
        "id": "0UTMQpEFnsJJ",
        "outputId": "bc13c54d-fc44-49da-d642-028503f0ab61"
      },
      "execution_count": 31,
      "outputs": [
        {
          "output_type": "stream",
          "name": "stdout",
          "text": [
            "Buddy is a dog.\n",
            "Whiskers is a cat.\n",
            "Sandwich with lettuce, tomato, and bacon.\n",
            "Sandwich with ham, cheese, and lettuce.\n"
          ]
        }
      ]
    },
    {
      "cell_type": "code",
      "source": [
        "def sum_numbers(*args):\n",
        "    return sum(args)\n",
        "\n",
        "print(\"Sum of numbers:\", sum_numbers(1, 2, 3, 4))\n",
        "\n",
        "def display_students(course_name, *students):\n",
        "    print(f\"Course: {course_name}\")\n",
        "    print(\"Students:\", \", \".join(students))\n",
        "\n",
        "display_students(\"Python 101\", \"Alice\", \"Bob\", \"Charlie\")\n"
      ],
      "metadata": {
        "colab": {
          "base_uri": "https://localhost:8080/"
        },
        "id": "GXjLroUCnklE",
        "outputId": "52b0ecc3-1af3-4415-bbc0-4adeb10ba164"
      },
      "execution_count": 32,
      "outputs": [
        {
          "output_type": "stream",
          "name": "stdout",
          "text": [
            "Sum of numbers: 10\n",
            "Course: Python 101\n",
            "Students: Alice, Bob, Charlie\n"
          ]
        }
      ]
    },
    {
      "cell_type": "code",
      "source": [
        "students = [(\"Alice\", [85, 90, 92]), (\"Bob\", [78, 81, 85]), (\"Charlie\", [92, 88, 91])]\n",
        "\n",
        "def average_grade(student):\n",
        "    return sum(student[1]) / len(student[1])\n",
        "\n",
        "def highest_average(students):\n",
        "    return max(students, key=average_grade)\n",
        "\n",
        "def lowest_average(students):\n",
        "    return min(students, key=average_grade)\n",
        "\n",
        "def add_student(students, name, grades):\n",
        "    students.append((name, grades))\n",
        "\n",
        "print(\"Average grades:\")\n",
        "for student in students:\n",
        "    print(f\"{student[0]}: {average_grade(student)}\")\n",
        "\n",
        "print(\"Student with highest average grade:\", highest_average(students))\n",
        "print(\"Student with lowest average grade:\", lowest_average(students))\n",
        "\n",
        "add_student(students, \"David\", [88, 90, 92])\n",
        "print(\"Updated student list:\", students)\n"
      ],
      "metadata": {
        "colab": {
          "base_uri": "https://localhost:8080/"
        },
        "id": "xMr9fMsbnzd8",
        "outputId": "d737a130-056a-409b-e77a-b643da17cea6"
      },
      "execution_count": 33,
      "outputs": [
        {
          "output_type": "stream",
          "name": "stdout",
          "text": [
            "Average grades:\n",
            "Alice: 89.0\n",
            "Bob: 81.33333333333333\n",
            "Charlie: 90.33333333333333\n",
            "Student with highest average grade: ('Charlie', [92, 88, 91])\n",
            "Student with lowest average grade: ('Bob', [78, 81, 85])\n",
            "Updated student list: [('Alice', [85, 90, 92]), ('Bob', [78, 81, 85]), ('Charlie', [92, 88, 91]), ('David', [88, 90, 92])]\n"
          ]
        }
      ]
    },
    {
      "cell_type": "code",
      "source": [],
      "metadata": {
        "id": "RO1ZBptBnwLT"
      },
      "execution_count": null,
      "outputs": []
    }
  ]
}